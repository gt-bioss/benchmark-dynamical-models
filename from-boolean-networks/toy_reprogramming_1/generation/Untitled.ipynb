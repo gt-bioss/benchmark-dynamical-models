{
 "cells": [
  {
   "cell_type": "code",
   "execution_count": 1,
   "id": "9f872bce-1187-45d1-84bf-f9618b4d4106",
   "metadata": {},
   "outputs": [
    {
     "name": "stdout",
     "output_type": "stream",
     "text": [
      "--2024-05-12 07:13:47--  http://blood.stemcells.cam.ac.uk/data/normalisedCounts.txt.gz\n",
      "Resolving blood.stemcells.cam.ac.uk (blood.stemcells.cam.ac.uk)... 64:ff9b::c13c:5cb0, 193.60.92.176\n",
      "Connecting to blood.stemcells.cam.ac.uk (blood.stemcells.cam.ac.uk)|64:ff9b::c13c:5cb0|:80... connected.\n",
      "HTTP request sent, awaiting response... ^C\n"
     ]
    }
   ],
   "source": [
    "!mkdir data\n",
    "!wget -P ./data/ http://blood.stemcells.cam.ac.uk/data/{normalisedCounts.txt.gz,all_cell_types.txt,cluster_ids.txt}"
   ]
  },
  {
   "cell_type": "code",
   "execution_count": null,
   "id": "45570917-1560-4c61-95f9-58329c62a4c5",
   "metadata": {},
   "outputs": [],
   "source": []
  }
 ],
 "metadata": {
  "kernelspec": {
   "display_name": "Python 3 (ipykernel)",
   "language": "python",
   "name": "python3"
  },
  "language_info": {
   "codemirror_mode": {
    "name": "ipython",
    "version": 3
   },
   "file_extension": ".py",
   "mimetype": "text/x-python",
   "name": "python",
   "nbconvert_exporter": "python",
   "pygments_lexer": "ipython3",
   "version": "3.11.2"
  }
 },
 "nbformat": 4,
 "nbformat_minor": 5
}
