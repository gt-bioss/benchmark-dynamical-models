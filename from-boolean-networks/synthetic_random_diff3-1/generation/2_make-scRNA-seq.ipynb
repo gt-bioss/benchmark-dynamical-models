{
 "cells": [
  {
   "cell_type": "markdown",
   "id": "3256fad0",
   "metadata": {},
   "source": [
    "# Generate scRNA-Seq data using scBoolSeq\n",
    "\n",
    "Extends https://github.com/bnediction/scBoolSeq-supplementary/blob/main/synthetic%20scRNA-Seq%20from%20Random%20Network.ipynb"
   ]
  },
  {
   "cell_type": "code",
   "execution_count": 6,
   "id": "e655a0da-6534-4dc9-b771-892b6cfe7dc6",
   "metadata": {},
   "outputs": [],
   "source": [
    "from scboolseq import scBoolSeq\n",
    "\n",
    "import glob \n",
    "import numpy as np\n",
    "import pandas as pd\n",
    "import sklearn"
   ]
  },
  {
   "cell_type": "code",
   "execution_count": 7,
   "id": "23e2a4b3-6b13-46d0-8c92-9c519090ba09",
   "metadata": {},
   "outputs": [],
   "source": [
    "ground_truth_prefix = \"../ground-truth/\"\n",
    "workdir = \"_workdir\"\n",
    "background_scRNA_seq = \"GSE81682_Hematopoiesis.csv\"\n",
    "background_scRNA_seq_src = f\"https://github.com/bnediction/scBoolSeq-supplementary/raw/main/data_filtered_vargenes/{background_scRNA_seq}\"\n",
    "output_prefix = \"../\"\n",
    "\n",
    "SEED = 20382"
   ]
  },
  {
   "cell_type": "markdown",
   "id": "419864c5-b4b8-4b93-8ac5-c12ec175e755",
   "metadata": {},
   "source": [
    "## Load background scRNA-seq data"
   ]
  },
  {
   "cell_type": "code",
   "execution_count": 8,
   "id": "855be7d5-e690-425b-9be6-d20b64a4585e",
   "metadata": {},
   "outputs": [],
   "source": [
    "background_scRNA_seq_file = f\"{workdir}/{background_scRNA_seq}\"\n",
    "! test -f {background_scRNA_seq_file} || (mkdir {workdir} && curl -fL {background_scRNA_seq_src} -o {background_scRNA_seq_file})"
   ]
  },
  {
   "cell_type": "code",
   "execution_count": 9,
   "id": "8056f4c6",
   "metadata": {},
   "outputs": [
    {
     "data": {
      "text/html": [
       "<div>\n",
       "<style scoped>\n",
       "    .dataframe tbody tr th:only-of-type {\n",
       "        vertical-align: middle;\n",
       "    }\n",
       "\n",
       "    .dataframe tbody tr th {\n",
       "        vertical-align: top;\n",
       "    }\n",
       "\n",
       "    .dataframe thead th {\n",
       "        text-align: right;\n",
       "    }\n",
       "</style>\n",
       "<table border=\"1\" class=\"dataframe\">\n",
       "  <thead>\n",
       "    <tr style=\"text-align: right;\">\n",
       "      <th></th>\n",
       "      <th>8430408G22Rik</th>\n",
       "      <th>Plp1</th>\n",
       "      <th>Zfp947</th>\n",
       "      <th>Bhlhb9</th>\n",
       "      <th>Vps35</th>\n",
       "      <th>Slc18a1</th>\n",
       "      <th>Fam107b</th>\n",
       "      <th>Gm14230</th>\n",
       "      <th>Plekhn1</th>\n",
       "      <th>Ankrd6</th>\n",
       "      <th>...</th>\n",
       "      <th>Gpr4</th>\n",
       "      <th>Nectin2</th>\n",
       "      <th>Tyrobp</th>\n",
       "      <th>Plekhf1</th>\n",
       "      <th>Nkg7</th>\n",
       "      <th>Osbpl1a</th>\n",
       "      <th>Slc27a6</th>\n",
       "      <th>Gm4951</th>\n",
       "      <th>Zfp438</th>\n",
       "      <th>Rab18</th>\n",
       "    </tr>\n",
       "  </thead>\n",
       "  <tbody>\n",
       "    <tr>\n",
       "      <th>HSPC_025</th>\n",
       "      <td>0.0</td>\n",
       "      <td>0.0</td>\n",
       "      <td>0.0</td>\n",
       "      <td>5.392129</td>\n",
       "      <td>8.852337</td>\n",
       "      <td>0.000000</td>\n",
       "      <td>2.614548</td>\n",
       "      <td>0.0</td>\n",
       "      <td>0.000000</td>\n",
       "      <td>0.0</td>\n",
       "      <td>...</td>\n",
       "      <td>0.000000</td>\n",
       "      <td>0.0</td>\n",
       "      <td>1.189716</td>\n",
       "      <td>0.0</td>\n",
       "      <td>2.614548</td>\n",
       "      <td>0.000000</td>\n",
       "      <td>0.0</td>\n",
       "      <td>0.000000</td>\n",
       "      <td>1.189716</td>\n",
       "      <td>9.263590</td>\n",
       "    </tr>\n",
       "    <tr>\n",
       "      <th>HSPC_031</th>\n",
       "      <td>0.0</td>\n",
       "      <td>0.0</td>\n",
       "      <td>0.0</td>\n",
       "      <td>0.686872</td>\n",
       "      <td>7.637939</td>\n",
       "      <td>0.000000</td>\n",
       "      <td>6.838205</td>\n",
       "      <td>0.0</td>\n",
       "      <td>0.000000</td>\n",
       "      <td>0.0</td>\n",
       "      <td>...</td>\n",
       "      <td>2.827391</td>\n",
       "      <td>0.0</td>\n",
       "      <td>3.158217</td>\n",
       "      <td>0.0</td>\n",
       "      <td>2.219938</td>\n",
       "      <td>2.017546</td>\n",
       "      <td>0.0</td>\n",
       "      <td>0.000000</td>\n",
       "      <td>0.000000</td>\n",
       "      <td>0.686872</td>\n",
       "    </tr>\n",
       "    <tr>\n",
       "      <th>HSPC_037</th>\n",
       "      <td>0.0</td>\n",
       "      <td>0.0</td>\n",
       "      <td>0.0</td>\n",
       "      <td>1.869808</td>\n",
       "      <td>7.938080</td>\n",
       "      <td>0.000000</td>\n",
       "      <td>9.405107</td>\n",
       "      <td>0.0</td>\n",
       "      <td>0.000000</td>\n",
       "      <td>0.0</td>\n",
       "      <td>...</td>\n",
       "      <td>0.000000</td>\n",
       "      <td>0.0</td>\n",
       "      <td>7.336441</td>\n",
       "      <td>0.0</td>\n",
       "      <td>8.407233</td>\n",
       "      <td>1.218731</td>\n",
       "      <td>0.0</td>\n",
       "      <td>0.000000</td>\n",
       "      <td>1.218731</td>\n",
       "      <td>8.641061</td>\n",
       "    </tr>\n",
       "    <tr>\n",
       "      <th>LT-HSC_001</th>\n",
       "      <td>0.0</td>\n",
       "      <td>0.0</td>\n",
       "      <td>0.0</td>\n",
       "      <td>7.965715</td>\n",
       "      <td>5.885018</td>\n",
       "      <td>0.000000</td>\n",
       "      <td>8.962827</td>\n",
       "      <td>0.0</td>\n",
       "      <td>0.000000</td>\n",
       "      <td>0.0</td>\n",
       "      <td>...</td>\n",
       "      <td>0.000000</td>\n",
       "      <td>0.0</td>\n",
       "      <td>0.000000</td>\n",
       "      <td>0.0</td>\n",
       "      <td>3.749470</td>\n",
       "      <td>6.820749</td>\n",
       "      <td>0.0</td>\n",
       "      <td>7.107933</td>\n",
       "      <td>2.364517</td>\n",
       "      <td>6.242153</td>\n",
       "    </tr>\n",
       "    <tr>\n",
       "      <th>HSPC_001</th>\n",
       "      <td>0.0</td>\n",
       "      <td>0.0</td>\n",
       "      <td>0.0</td>\n",
       "      <td>8.395500</td>\n",
       "      <td>0.000000</td>\n",
       "      <td>0.377367</td>\n",
       "      <td>0.676211</td>\n",
       "      <td>0.0</td>\n",
       "      <td>0.676211</td>\n",
       "      <td>0.0</td>\n",
       "      <td>...</td>\n",
       "      <td>0.000000</td>\n",
       "      <td>0.0</td>\n",
       "      <td>0.377367</td>\n",
       "      <td>0.0</td>\n",
       "      <td>1.134796</td>\n",
       "      <td>1.134796</td>\n",
       "      <td>0.0</td>\n",
       "      <td>1.883902</td>\n",
       "      <td>0.000000</td>\n",
       "      <td>1.318950</td>\n",
       "    </tr>\n",
       "  </tbody>\n",
       "</table>\n",
       "<p>5 rows × 1165 columns</p>\n",
       "</div>"
      ],
      "text/plain": [
       "            8430408G22Rik  Plp1  Zfp947    Bhlhb9     Vps35   Slc18a1  \\\n",
       "HSPC_025              0.0   0.0     0.0  5.392129  8.852337  0.000000   \n",
       "HSPC_031              0.0   0.0     0.0  0.686872  7.637939  0.000000   \n",
       "HSPC_037              0.0   0.0     0.0  1.869808  7.938080  0.000000   \n",
       "LT-HSC_001            0.0   0.0     0.0  7.965715  5.885018  0.000000   \n",
       "HSPC_001              0.0   0.0     0.0  8.395500  0.000000  0.377367   \n",
       "\n",
       "             Fam107b  Gm14230   Plekhn1  Ankrd6  ...      Gpr4  Nectin2  \\\n",
       "HSPC_025    2.614548      0.0  0.000000     0.0  ...  0.000000      0.0   \n",
       "HSPC_031    6.838205      0.0  0.000000     0.0  ...  2.827391      0.0   \n",
       "HSPC_037    9.405107      0.0  0.000000     0.0  ...  0.000000      0.0   \n",
       "LT-HSC_001  8.962827      0.0  0.000000     0.0  ...  0.000000      0.0   \n",
       "HSPC_001    0.676211      0.0  0.676211     0.0  ...  0.000000      0.0   \n",
       "\n",
       "              Tyrobp  Plekhf1      Nkg7   Osbpl1a  Slc27a6    Gm4951  \\\n",
       "HSPC_025    1.189716      0.0  2.614548  0.000000      0.0  0.000000   \n",
       "HSPC_031    3.158217      0.0  2.219938  2.017546      0.0  0.000000   \n",
       "HSPC_037    7.336441      0.0  8.407233  1.218731      0.0  0.000000   \n",
       "LT-HSC_001  0.000000      0.0  3.749470  6.820749      0.0  7.107933   \n",
       "HSPC_001    0.377367      0.0  1.134796  1.134796      0.0  1.883902   \n",
       "\n",
       "              Zfp438     Rab18  \n",
       "HSPC_025    1.189716  9.263590  \n",
       "HSPC_031    0.000000  0.686872  \n",
       "HSPC_037    1.218731  8.641061  \n",
       "LT-HSC_001  2.364517  6.242153  \n",
       "HSPC_001    0.000000  1.318950  \n",
       "\n",
       "[5 rows x 1165 columns]"
      ]
     },
     "execution_count": 9,
     "metadata": {},
     "output_type": "execute_result"
    }
   ],
   "source": [
    "ref_data = pd.read_csv(background_scRNA_seq_file, index_col=0)\n",
    "ref_data.head()"
   ]
  },
  {
   "cell_type": "code",
   "execution_count": 10,
   "id": "f9384398",
   "metadata": {},
   "outputs": [
    {
     "name": "stderr",
     "output_type": "stream",
     "text": [
      "/usr/lib/python3.12/site-packages/numpy/core/fromnumeric.py:59: FutureWarning: 'DataFrame.swapaxes' is deprecated and will be removed in a future version. Please use 'DataFrame.transpose' instead.\n",
      "  return bound(*args, **kwds)\n"
     ]
    }
   ],
   "source": [
    "with sklearn.config_context(transform_output=\"pandas\"):\n",
    "    scbool = scBoolSeq().fit(ref_data)"
   ]
  },
  {
   "cell_type": "markdown",
   "id": "b4698717-57b1-404c-b895-66aa9d62b262",
   "metadata": {},
   "source": [
    "## Generate sample scRNA-seq from Boolean trajectories"
   ]
  },
  {
   "cell_type": "code",
   "execution_count": 11,
   "id": "86e9874b-e8e4-4dcc-a72a-5bcad99223bd",
   "metadata": {},
   "outputs": [],
   "source": [
    "!mkdir -p {output_prefix}traj/\n",
    "!mkdir -p {output_prefix}steady/"
   ]
  },
  {
   "cell_type": "code",
   "execution_count": 12,
   "id": "e48671b3-b044-4ef0-8dec-14b53c54f3d8",
   "metadata": {},
   "outputs": [],
   "source": [
    "def make_nb_cells(traj_df, nb_cells_transient=(150,250), nb_cells_steady=(500,600), SEED=SEED):\n",
    "    rng = np.random.default_rng(SEED)\n",
    "    n_samples = rng.integers(*nb_cells_transient, size=len(traj_df.index))\n",
    "    _steady = np.where(traj_df.index.map(lambda x: \"steady\" in x and \"_to_\" not in x))[0]\n",
    "    n_samples[_steady] = rng.integers(*nb_cells_steady, size=len(_steady))\n",
    "    return n_samples\n",
    "\n",
    "def expand_bindata(traj_df, n_samples):\n",
    "    d = traj_df.copy(deep=True).values.repeat(n_samples, axis=0)\n",
    "    return pd.DataFrame(d, columns=traj_df.columns)\n",
    "\n",
    "def push_mutants_counts(counts, name):\n",
    "    for label, mutant_counts in counts.groupby(lambda idx: idx.split(\"#\")[0]):\n",
    "        mutant_counts.index = [idx[idx.index(\"#\")+1:] for idx in mutant_counts.index]\n",
    "        print(label, name)\n",
    "        mutant_counts.T.to_csv(f\"{output_prefix}traj/{label}-{name}.csv\")\n",
    "        sel = [i for i in mutant_counts.index if i.startswith(\"steady\")]\n",
    "        mutant_counts.loc[sel].T.to_csv(f\"{output_prefix}steady/{label}-{name}.csv\")\n",
    "\n",
    "def make_mutant_counts(traj_df, n_samples, SEED=SEED):\n",
    "    bindata = expand_bindata(traj_df, n_samples)\n",
    "    for args, name in [({}, \"normalized-scRNAseq-dropouts\"), \n",
    "                       ({\"dropout_mode\": None}, \"normalized-scRNAseq-nodropouts\")]:\n",
    "        counts = scbool.sample_counts(bindata, n_samples_per_state=1, random_state=SEED)\n",
    "        counts.index = [f\"{x}_{y}\" for i,x in enumerate(traj_df.index) for y in range(n_samples[i])]\n",
    "        counts.index.name = \"cellID\"\n",
    "        push_mutants_counts(counts, name)"
   ]
  },
  {
   "cell_type": "code",
   "execution_count": 13,
   "id": "77facd1f-23c9-473f-8406-4776305db585",
   "metadata": {},
   "outputs": [
    {
     "name": "stderr",
     "output_type": "stream",
     "text": [
      "/home/pauleve/.local/lib/python3.12/site-packages/scboolseq/simulation.py:862: RuntimeWarning: Precision loss occurred in moment calculation due to catastrophic cancellation. This occurs when the data are nearly identical. Results may be unreliable.\n",
      "  \"Skewness\": ss.skew(trajectory),\n",
      "/home/pauleve/.local/lib/python3.12/site-packages/scboolseq/simulation.py:863: RuntimeWarning: Precision loss occurred in moment calculation due to catastrophic cancellation. This occurs when the data are nearly identical. Results may be unreliable.\n",
      "  \"Kurtosis\": ss.kurtosis(trajectory),\n",
      "/usr/lib/python3.12/site-packages/numpy/core/fromnumeric.py:59: FutureWarning: 'DataFrame.swapaxes' is deprecated and will be removed in a future version. Please use 'DataFrame.transpose' instead.\n",
      "  return bound(*args, **kwds)\n"
     ]
    },
    {
     "name": "stdout",
     "output_type": "stream",
     "text": [
      "wt normalized-scRNAseq-dropouts\n",
      "x14KO normalized-scRNAseq-dropouts\n",
      "x1KO normalized-scRNAseq-dropouts\n",
      "x1KOx2KO normalized-scRNAseq-dropouts\n",
      "x1KOx2UP normalized-scRNAseq-dropouts\n",
      "x1UPx2KO normalized-scRNAseq-dropouts\n",
      "x1UPx2UP normalized-scRNAseq-dropouts\n",
      "x2KO normalized-scRNAseq-dropouts\n",
      "x7KO normalized-scRNAseq-dropouts\n",
      "x9KO normalized-scRNAseq-dropouts\n"
     ]
    },
    {
     "name": "stderr",
     "output_type": "stream",
     "text": [
      "/home/pauleve/.local/lib/python3.12/site-packages/scboolseq/simulation.py:862: RuntimeWarning: Precision loss occurred in moment calculation due to catastrophic cancellation. This occurs when the data are nearly identical. Results may be unreliable.\n",
      "  \"Skewness\": ss.skew(trajectory),\n",
      "/home/pauleve/.local/lib/python3.12/site-packages/scboolseq/simulation.py:863: RuntimeWarning: Precision loss occurred in moment calculation due to catastrophic cancellation. This occurs when the data are nearly identical. Results may be unreliable.\n",
      "  \"Kurtosis\": ss.kurtosis(trajectory),\n",
      "/usr/lib/python3.12/site-packages/numpy/core/fromnumeric.py:59: FutureWarning: 'DataFrame.swapaxes' is deprecated and will be removed in a future version. Please use 'DataFrame.transpose' instead.\n",
      "  return bound(*args, **kwds)\n"
     ]
    },
    {
     "name": "stdout",
     "output_type": "stream",
     "text": [
      "wt normalized-scRNAseq-nodropouts\n",
      "x14KO normalized-scRNAseq-nodropouts\n",
      "x1KO normalized-scRNAseq-nodropouts\n",
      "x1KOx2KO normalized-scRNAseq-nodropouts\n",
      "x1KOx2UP normalized-scRNAseq-nodropouts\n",
      "x1UPx2KO normalized-scRNAseq-nodropouts\n",
      "x1UPx2UP normalized-scRNAseq-nodropouts\n",
      "x2KO normalized-scRNAseq-nodropouts\n",
      "x7KO normalized-scRNAseq-nodropouts\n",
      "x9KO normalized-scRNAseq-nodropouts\n"
     ]
    }
   ],
   "source": [
    "_suffix = \"-boolean-trajectories.csv\"\n",
    "def pull_traj_df(traj_file):\n",
    "    label = traj_file[len(ground_truth_prefix):-len(_suffix)]\n",
    "    traj_df = pd.read_csv(traj_file, index_col=0)\n",
    "    traj_df.index = [f\"{label}#{i}\" for i in traj_df.index]\n",
    "    return traj_df\n",
    "\n",
    "trajs_df = pd.concat([pull_traj_df(traj_file) for traj_file in glob.glob(f\"{ground_truth_prefix}*{_suffix}\")])\n",
    "n_samples = make_nb_cells(trajs_df)\n",
    "make_mutant_counts(trajs_df, n_samples)"
   ]
  },
  {
   "cell_type": "code",
   "execution_count": null,
   "id": "1ac55f90-80d3-47f0-8e01-574331f7887b",
   "metadata": {},
   "outputs": [],
   "source": []
  }
 ],
 "metadata": {
  "kernelspec": {
   "display_name": "Python 3 (ipykernel)",
   "language": "python",
   "name": "python3"
  },
  "language_info": {
   "codemirror_mode": {
    "name": "ipython",
    "version": 3
   },
   "file_extension": ".py",
   "mimetype": "text/x-python",
   "name": "python",
   "nbconvert_exporter": "python",
   "pygments_lexer": "ipython3",
   "version": "3.12.3"
  }
 },
 "nbformat": 4,
 "nbformat_minor": 5
}
