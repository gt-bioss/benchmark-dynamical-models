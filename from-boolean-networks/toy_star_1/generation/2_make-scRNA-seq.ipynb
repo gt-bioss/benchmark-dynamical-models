{
 "cells": [
  {
   "cell_type": "code",
   "execution_count": 1,
   "id": "e655a0da-6534-4dc9-b771-892b6cfe7dc6",
   "metadata": {},
   "outputs": [
    {
     "name": "stderr",
     "output_type": "stream",
     "text": [
      "/home/pauleve/.local/lib/python3.12/site-packages/scboolseq/binarization.py:46: UserWarning: \n",
      "Scikit-learn's transform output is set to `default`\n",
      "Please consider calling `sklearn.set_config(transform_output='pandas')` to set this option globally.\n",
      "Otherwise use a config context to conserve DataFrame output\n",
      ">>>with sklearn.config_context(transform_output='pandas'):\n",
      ">>>    bin_rna_data = scboolseq.scBoolSeq().fit_transform(log_rna_data)\n",
      "  warnings.warn(\n"
     ]
    }
   ],
   "source": [
    "from scboolseq import scBoolSeq\n",
    "\n",
    "import glob \n",
    "import numpy as np\n",
    "import pandas as pd\n",
    "import sklearn"
   ]
  },
  {
   "cell_type": "code",
   "execution_count": 2,
   "id": "23e2a4b3-6b13-46d0-8c92-9c519090ba09",
   "metadata": {},
   "outputs": [],
   "source": [
    "ground_truth_prefix = \"../ground-truth/\"\n",
    "workdir = \"_workdir\"\n",
    "background_scRNA_seq = \"GSE60361_mouse_brain.csv\"\n",
    "background_scRNA_seq_src = f\"https://github.com/bnediction/scBoolSeq-supplementary/raw/main/data_filtered_vargenes/{background_scRNA_seq}\"\n",
    "output_prefix = \"../\"\n",
    "\n",
    "SEED = 21382"
   ]
  },
  {
   "cell_type": "markdown",
   "id": "419864c5-b4b8-4b93-8ac5-c12ec175e755",
   "metadata": {},
   "source": [
    "## Load background scRNA-seq data"
   ]
  },
  {
   "cell_type": "code",
   "execution_count": 3,
   "id": "855be7d5-e690-425b-9be6-d20b64a4585e",
   "metadata": {},
   "outputs": [],
   "source": [
    "background_scRNA_seq_file = f\"{workdir}/{background_scRNA_seq}\"\n",
    "! test -f {background_scRNA_seq_file} || (mkdir {workdir} && curl -fL {background_scRNA_seq_src} -o {background_scRNA_seq_file})"
   ]
  },
  {
   "cell_type": "code",
   "execution_count": 4,
   "id": "8056f4c6",
   "metadata": {},
   "outputs": [
    {
     "data": {
      "text/html": [
       "<div>\n",
       "<style scoped>\n",
       "    .dataframe tbody tr th:only-of-type {\n",
       "        vertical-align: middle;\n",
       "    }\n",
       "\n",
       "    .dataframe tbody tr th {\n",
       "        vertical-align: top;\n",
       "    }\n",
       "\n",
       "    .dataframe thead th {\n",
       "        text-align: right;\n",
       "    }\n",
       "</style>\n",
       "<table border=\"1\" class=\"dataframe\">\n",
       "  <thead>\n",
       "    <tr style=\"text-align: right;\">\n",
       "      <th></th>\n",
       "      <th>Atp1b2</th>\n",
       "      <th>Cxcl14</th>\n",
       "      <th>Nacc2</th>\n",
       "      <th>Scg2</th>\n",
       "      <th>Nrxn3</th>\n",
       "      <th>Rph3a</th>\n",
       "      <th>Pcp4l1</th>\n",
       "      <th>Ablim1</th>\n",
       "      <th>Xist</th>\n",
       "      <th>Marcks</th>\n",
       "      <th>...</th>\n",
       "      <th>Hopx</th>\n",
       "      <th>Fxyd1</th>\n",
       "      <th>Id3</th>\n",
       "      <th>Mgp</th>\n",
       "      <th>Acta2</th>\n",
       "      <th>Myl9</th>\n",
       "      <th>Crip1</th>\n",
       "      <th>Sptssa</th>\n",
       "      <th>Dynlt1b</th>\n",
       "      <th>Ctnna1</th>\n",
       "    </tr>\n",
       "  </thead>\n",
       "  <tbody>\n",
       "    <tr>\n",
       "      <th>1772071015-C02</th>\n",
       "      <td>8.489427</td>\n",
       "      <td>8.933823</td>\n",
       "      <td>0.000000</td>\n",
       "      <td>9.535737</td>\n",
       "      <td>8.933823</td>\n",
       "      <td>8.913243</td>\n",
       "      <td>8.128726</td>\n",
       "      <td>7.974452</td>\n",
       "      <td>8.342811</td>\n",
       "      <td>8.422048</td>\n",
       "      <td>...</td>\n",
       "      <td>8.756738</td>\n",
       "      <td>0.0</td>\n",
       "      <td>0.0</td>\n",
       "      <td>0.0</td>\n",
       "      <td>0.0</td>\n",
       "      <td>0.0</td>\n",
       "      <td>0.0</td>\n",
       "      <td>7.426293</td>\n",
       "      <td>0.000000</td>\n",
       "      <td>0.000000</td>\n",
       "    </tr>\n",
       "    <tr>\n",
       "      <th>1772071017-G12</th>\n",
       "      <td>8.162866</td>\n",
       "      <td>8.877479</td>\n",
       "      <td>8.925605</td>\n",
       "      <td>8.678864</td>\n",
       "      <td>8.633270</td>\n",
       "      <td>9.202052</td>\n",
       "      <td>8.947434</td>\n",
       "      <td>8.162866</td>\n",
       "      <td>0.000000</td>\n",
       "      <td>8.162866</td>\n",
       "      <td>...</td>\n",
       "      <td>7.460357</td>\n",
       "      <td>0.0</td>\n",
       "      <td>0.0</td>\n",
       "      <td>0.0</td>\n",
       "      <td>0.0</td>\n",
       "      <td>0.0</td>\n",
       "      <td>0.0</td>\n",
       "      <td>0.000000</td>\n",
       "      <td>0.000000</td>\n",
       "      <td>0.000000</td>\n",
       "    </tr>\n",
       "    <tr>\n",
       "      <th>1772071017-A05</th>\n",
       "      <td>8.014864</td>\n",
       "      <td>8.597981</td>\n",
       "      <td>7.721852</td>\n",
       "      <td>8.821713</td>\n",
       "      <td>9.038983</td>\n",
       "      <td>8.140482</td>\n",
       "      <td>8.597981</td>\n",
       "      <td>7.721852</td>\n",
       "      <td>0.000000</td>\n",
       "      <td>8.278299</td>\n",
       "      <td>...</td>\n",
       "      <td>7.840381</td>\n",
       "      <td>0.0</td>\n",
       "      <td>0.0</td>\n",
       "      <td>0.0</td>\n",
       "      <td>0.0</td>\n",
       "      <td>0.0</td>\n",
       "      <td>0.0</td>\n",
       "      <td>0.000000</td>\n",
       "      <td>0.000000</td>\n",
       "      <td>0.000000</td>\n",
       "    </tr>\n",
       "    <tr>\n",
       "      <th>1772071014-B06</th>\n",
       "      <td>7.872927</td>\n",
       "      <td>9.092677</td>\n",
       "      <td>8.347984</td>\n",
       "      <td>8.869821</td>\n",
       "      <td>8.646387</td>\n",
       "      <td>8.782817</td>\n",
       "      <td>8.898557</td>\n",
       "      <td>6.394773</td>\n",
       "      <td>8.114747</td>\n",
       "      <td>8.468354</td>\n",
       "      <td>...</td>\n",
       "      <td>7.386175</td>\n",
       "      <td>0.0</td>\n",
       "      <td>0.0</td>\n",
       "      <td>0.0</td>\n",
       "      <td>0.0</td>\n",
       "      <td>0.0</td>\n",
       "      <td>0.0</td>\n",
       "      <td>0.000000</td>\n",
       "      <td>6.394773</td>\n",
       "      <td>0.000000</td>\n",
       "    </tr>\n",
       "    <tr>\n",
       "      <th>1772067065-H06</th>\n",
       "      <td>8.332319</td>\n",
       "      <td>0.000000</td>\n",
       "      <td>8.478931</td>\n",
       "      <td>9.350934</td>\n",
       "      <td>8.995119</td>\n",
       "      <td>8.675213</td>\n",
       "      <td>8.332319</td>\n",
       "      <td>7.963969</td>\n",
       "      <td>0.000000</td>\n",
       "      <td>9.137178</td>\n",
       "      <td>...</td>\n",
       "      <td>7.415830</td>\n",
       "      <td>0.0</td>\n",
       "      <td>0.0</td>\n",
       "      <td>0.0</td>\n",
       "      <td>0.0</td>\n",
       "      <td>0.0</td>\n",
       "      <td>0.0</td>\n",
       "      <td>0.000000</td>\n",
       "      <td>0.000000</td>\n",
       "      <td>6.756281</td>\n",
       "    </tr>\n",
       "  </tbody>\n",
       "</table>\n",
       "<p>5 rows × 570 columns</p>\n",
       "</div>"
      ],
      "text/plain": [
       "                  Atp1b2    Cxcl14     Nacc2      Scg2     Nrxn3     Rph3a  \\\n",
       "1772071015-C02  8.489427  8.933823  0.000000  9.535737  8.933823  8.913243   \n",
       "1772071017-G12  8.162866  8.877479  8.925605  8.678864  8.633270  9.202052   \n",
       "1772071017-A05  8.014864  8.597981  7.721852  8.821713  9.038983  8.140482   \n",
       "1772071014-B06  7.872927  9.092677  8.347984  8.869821  8.646387  8.782817   \n",
       "1772067065-H06  8.332319  0.000000  8.478931  9.350934  8.995119  8.675213   \n",
       "\n",
       "                  Pcp4l1    Ablim1      Xist    Marcks  ...      Hopx  Fxyd1  \\\n",
       "1772071015-C02  8.128726  7.974452  8.342811  8.422048  ...  8.756738    0.0   \n",
       "1772071017-G12  8.947434  8.162866  0.000000  8.162866  ...  7.460357    0.0   \n",
       "1772071017-A05  8.597981  7.721852  0.000000  8.278299  ...  7.840381    0.0   \n",
       "1772071014-B06  8.898557  6.394773  8.114747  8.468354  ...  7.386175    0.0   \n",
       "1772067065-H06  8.332319  7.963969  0.000000  9.137178  ...  7.415830    0.0   \n",
       "\n",
       "                Id3  Mgp  Acta2  Myl9  Crip1    Sptssa   Dynlt1b    Ctnna1  \n",
       "1772071015-C02  0.0  0.0    0.0   0.0    0.0  7.426293  0.000000  0.000000  \n",
       "1772071017-G12  0.0  0.0    0.0   0.0    0.0  0.000000  0.000000  0.000000  \n",
       "1772071017-A05  0.0  0.0    0.0   0.0    0.0  0.000000  0.000000  0.000000  \n",
       "1772071014-B06  0.0  0.0    0.0   0.0    0.0  0.000000  6.394773  0.000000  \n",
       "1772067065-H06  0.0  0.0    0.0   0.0    0.0  0.000000  0.000000  6.756281  \n",
       "\n",
       "[5 rows x 570 columns]"
      ]
     },
     "execution_count": 4,
     "metadata": {},
     "output_type": "execute_result"
    }
   ],
   "source": [
    "ref_data = pd.read_csv(background_scRNA_seq_file, index_col=0)\n",
    "ref_data.head()"
   ]
  },
  {
   "cell_type": "code",
   "execution_count": 5,
   "id": "f9384398",
   "metadata": {},
   "outputs": [
    {
     "name": "stderr",
     "output_type": "stream",
     "text": [
      "/usr/lib/python3.12/site-packages/numpy/core/fromnumeric.py:59: FutureWarning: 'DataFrame.swapaxes' is deprecated and will be removed in a future version. Please use 'DataFrame.transpose' instead.\n",
      "  return bound(*args, **kwds)\n"
     ]
    }
   ],
   "source": [
    "with sklearn.config_context(transform_output=\"pandas\"):\n",
    "    scbool = scBoolSeq().fit(ref_data)"
   ]
  },
  {
   "cell_type": "markdown",
   "id": "b4698717-57b1-404c-b895-66aa9d62b262",
   "metadata": {},
   "source": [
    "## Generate sample scRNA-seq from Boolean trajectories"
   ]
  },
  {
   "cell_type": "code",
   "execution_count": 6,
   "id": "bae53be9-81c1-4091-9fc0-c2d276862b7d",
   "metadata": {},
   "outputs": [],
   "source": [
    "!mkdir -p {output_prefix}traj/\n",
    "!mkdir -p {output_prefix}steady/"
   ]
  },
  {
   "cell_type": "code",
   "execution_count": 6,
   "id": "05116288-40fa-4bd1-9507-99c76690ebe5",
   "metadata": {},
   "outputs": [],
   "source": [
    "def make_nb_cells(traj_df, nb_cells_transient=(150,250), nb_cells_steady=(500,600), SEED=SEED):\n",
    "    rng = np.random.default_rng(SEED)\n",
    "    n_samples = rng.integers(*nb_cells_transient, size=len(traj_df.index))\n",
    "    _steady = np.where(traj_df.index.map(lambda x: \"steady\" in x and \"_to_\" not in x))[0]\n",
    "    n_samples[_steady] = rng.integers(*nb_cells_steady, size=len(_steady))\n",
    "    return n_samples\n",
    "\n",
    "def expand_bindata(traj_df, n_samples):\n",
    "    d = traj_df.copy(deep=True).values.repeat(n_samples, axis=0)\n",
    "    return pd.DataFrame(d, columns=traj_df.columns)\n",
    "\n",
    "def push_mutants_counts(counts, name):\n",
    "    for label, mutant_counts in counts.groupby(lambda idx: idx.split(\"#\")[0]):\n",
    "        mutant_counts.index = [idx[idx.index(\"#\")+1:] for idx in mutant_counts.index]\n",
    "        print(label, name)\n",
    "        mutant_counts.T.to_csv(f\"{output_prefix}traj/{label}-{name}.csv\")\n",
    "        sel = [i for i in mutant_counts.index if i.startswith(\"steady\")]\n",
    "        mutant_counts.loc[sel].T.to_csv(f\"{output_prefix}steady/{label}-{name}.csv\")\n",
    "\n",
    "def make_mutant_counts(traj_df, n_samples, SEED=SEED):\n",
    "    bindata = expand_bindata(traj_df, n_samples)\n",
    "    for args, name in [({}, \"normalized-scRNAseq-dropouts\"), \n",
    "                       ({\"dropout_mode\": None}, \"normalized-scRNAseq-nodropouts\")]:\n",
    "        counts = scbool.sample_counts(bindata, n_samples_per_state=1, random_state=SEED)\n",
    "        counts.index = [f\"{x}_{y}\" for i,x in enumerate(traj_df.index) for y in range(n_samples[i])]\n",
    "        counts.index.name = \"cellID\"\n",
    "        push_mutants_counts(counts, name)"
   ]
  },
  {
   "cell_type": "code",
   "execution_count": 7,
   "id": "06945d42-64cb-48c5-9050-5c9fe63d081f",
   "metadata": {},
   "outputs": [
    {
     "name": "stderr",
     "output_type": "stream",
     "text": [
      "/home/pauleve/.local/lib/python3.12/site-packages/scboolseq/simulation.py:862: RuntimeWarning: Precision loss occurred in moment calculation due to catastrophic cancellation. This occurs when the data are nearly identical. Results may be unreliable.\n",
      "  \"Skewness\": ss.skew(trajectory),\n",
      "/home/pauleve/.local/lib/python3.12/site-packages/scboolseq/simulation.py:863: RuntimeWarning: Precision loss occurred in moment calculation due to catastrophic cancellation. This occurs when the data are nearly identical. Results may be unreliable.\n",
      "  \"Kurtosis\": ss.kurtosis(trajectory),\n",
      "/usr/lib/python3.12/site-packages/numpy/core/fromnumeric.py:59: FutureWarning: 'DataFrame.swapaxes' is deprecated and will be removed in a future version. Please use 'DataFrame.transpose' instead.\n",
      "  return bound(*args, **kwds)\n"
     ]
    },
    {
     "name": "stdout",
     "output_type": "stream",
     "text": [
      "gene10KO normalized-scRNAseq-dropouts\n",
      "gene1KO normalized-scRNAseq-dropouts\n",
      "gene2KO normalized-scRNAseq-dropouts\n",
      "gene3KO normalized-scRNAseq-dropouts\n",
      "gene4KO normalized-scRNAseq-dropouts\n",
      "gene5KO normalized-scRNAseq-dropouts\n",
      "gene6KO normalized-scRNAseq-dropouts\n",
      "gene7KO normalized-scRNAseq-dropouts\n",
      "gene8KO normalized-scRNAseq-dropouts\n",
      "gene9KO normalized-scRNAseq-dropouts\n",
      "wt normalized-scRNAseq-dropouts\n"
     ]
    },
    {
     "name": "stderr",
     "output_type": "stream",
     "text": [
      "/home/pauleve/.local/lib/python3.12/site-packages/scboolseq/simulation.py:862: RuntimeWarning: Precision loss occurred in moment calculation due to catastrophic cancellation. This occurs when the data are nearly identical. Results may be unreliable.\n",
      "  \"Skewness\": ss.skew(trajectory),\n",
      "/home/pauleve/.local/lib/python3.12/site-packages/scboolseq/simulation.py:863: RuntimeWarning: Precision loss occurred in moment calculation due to catastrophic cancellation. This occurs when the data are nearly identical. Results may be unreliable.\n",
      "  \"Kurtosis\": ss.kurtosis(trajectory),\n",
      "/usr/lib/python3.12/site-packages/numpy/core/fromnumeric.py:59: FutureWarning: 'DataFrame.swapaxes' is deprecated and will be removed in a future version. Please use 'DataFrame.transpose' instead.\n",
      "  return bound(*args, **kwds)\n"
     ]
    },
    {
     "name": "stdout",
     "output_type": "stream",
     "text": [
      "gene10KO normalized-scRNAseq-nodropouts\n",
      "gene1KO normalized-scRNAseq-nodropouts\n",
      "gene2KO normalized-scRNAseq-nodropouts\n",
      "gene3KO normalized-scRNAseq-nodropouts\n",
      "gene4KO normalized-scRNAseq-nodropouts\n",
      "gene5KO normalized-scRNAseq-nodropouts\n",
      "gene6KO normalized-scRNAseq-nodropouts\n",
      "gene7KO normalized-scRNAseq-nodropouts\n",
      "gene8KO normalized-scRNAseq-nodropouts\n",
      "gene9KO normalized-scRNAseq-nodropouts\n",
      "wt normalized-scRNAseq-nodropouts\n"
     ]
    }
   ],
   "source": [
    "_suffix = \"-boolean-trajectories.csv\"\n",
    "def pull_traj_df(traj_file):\n",
    "    label = traj_file[len(ground_truth_prefix):-len(_suffix)]\n",
    "    traj_df = pd.read_csv(traj_file, index_col=0)\n",
    "    traj_df.index = [f\"{label}#{i}\" for i in traj_df.index]\n",
    "    return traj_df\n",
    "\n",
    "trajs_df = pd.concat([pull_traj_df(traj_file) for traj_file in glob.glob(f\"{ground_truth_prefix}*{_suffix}\")])\n",
    "n_samples = make_nb_cells(trajs_df)\n",
    "make_mutant_counts(trajs_df, n_samples)"
   ]
  },
  {
   "cell_type": "code",
   "execution_count": null,
   "id": "11dce353-89a2-44ac-ad6c-e5df60ff25ca",
   "metadata": {},
   "outputs": [],
   "source": []
  }
 ],
 "metadata": {
  "kernelspec": {
   "display_name": "Python 3 (ipykernel)",
   "language": "python",
   "name": "python3"
  },
  "language_info": {
   "codemirror_mode": {
    "name": "ipython",
    "version": 3
   },
   "file_extension": ".py",
   "mimetype": "text/x-python",
   "name": "python",
   "nbconvert_exporter": "python",
   "pygments_lexer": "ipython3",
   "version": "3.12.3"
  }
 },
 "nbformat": 4,
 "nbformat_minor": 5
}
